{
 "cells": [
  {
   "cell_type": "markdown",
   "id": "542f45d7",
   "metadata": {},
   "source": [
    "https://drive.google.com/file/d/1we98sbBEwIOXVMdmzeeIDPiWEZsDQQHz/view?usp=drive_link"
   ]
  }
 ],
 "metadata": {
  "language_info": {
   "name": "python"
  }
 },
 "nbformat": 4,
 "nbformat_minor": 5
}
