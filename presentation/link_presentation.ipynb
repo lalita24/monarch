{
 "cells": [
  {
   "cell_type": "markdown",
   "id": "542f45d7",
   "metadata": {},
   "source": [
    "#### ลิงก์วิดีโอการนำเสนอ\n",
    "https://drive.google.com/file/d/1we98sbBEwIOXVMdmzeeIDPiWEZsDQQHz/view?usp=drive_link"
   ]
  },
  {
   "cell_type": "markdown",
   "id": "fe8328a0",
   "metadata": {},
   "source": [
    "#### ลิงก์สไลด์\n",
    "https://drive.google.com/file/d/1QyutB9X5hvbXhOVVDrMTdGWlTZu7yXJK/view?usp=drive_link"
   ]
  }
 ],
 "metadata": {
  "language_info": {
   "name": "python"
  }
 },
 "nbformat": 4,
 "nbformat_minor": 5
}
